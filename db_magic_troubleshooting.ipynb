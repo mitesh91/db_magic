{
 "metadata": {
  "name": "DB Magic Troubleshooting"
 },
 "nbformat": 3,
 "nbformat_minor": 0,
 "worksheets": [
  {
   "cells": [
    {
     "cell_type": "markdown",
     "metadata": {},
     "source": "#Introduction\n\nDBMagic is a language interface for using remote databases the same way you use the adapters for [R](http://ipython.org/ipython-doc/dev/config/extensions/rmagic.html), [Ruby](http://nbviewer.ipython.org/github/minad/iruby/blob/master/IRuby-Example.ipynb), [Julia](http://nbviewer.ipython.org/github/JuliaLang/IJulia.jl/blob/master/python/doc/JuliaMagic.ipynb), and [many others](https://github.com/ipython/ipython/wiki/A-gallery-of-interesting-IPython-Notebooks).  However, in doing this there are some complexities that need to be dealt with.  While we work very hard to keep things logical and consistent, in the end we are doing a client-server connection to a remote data source.  There will always be complexities.\n\n##Design Philosophy\n\nThe design philosopy really focuses how we are going to design error handling, which strongly influences how you will troubleshoot the system:\n\n1. **Make Python speak to the data** - iPython should be able to utilize database languages magics the same way that they use other language magics.\n1. **Make the data speak to Python** - take advantage of the robust language Python in combination with the specific language on the remote data source.\n1. **Let the user choose the level of complexity** - a database developer using **`%db`** should not have to know more about Python than an R developer using **`%R`**\n1. **If possible, don't fail** - catch every possible error and exception. Dealing with leaving connections open is a pain, let's not make it worse by leaving errors all over the place.\n1. **If you have to fail, do it in a consistent way** - when it makes sense we will use the python exception system and logging.  Allow the user to decide if an error will break their code or not.\n1. **Do as little work as possible** - use all the libraries available, don't reinvent the wheel.\n\nUnderstanding these will help you to better understand how to work with **`%db`**.\n\n--------------------\n\n<h1 id=\"tocheading\">Table of Contents</h1>\n<div id=\"toc\"></div>\n<script type=\"text/javascript\" src=\"https://raw.github.com/kmahelona/ipython_notebook_goodies/master/ipython_notebook_toc.js\">"
    },
    {
     "cell_type": "markdown",
     "metadata": {},
     "source": "----------------------------\n\n##Most Common Errors\n\nThe most common errors I see when people use **`%db`** are:\n\n1. Leaving off the data source when performing a query.\n1. Trying to perform a query without an open connection.\n1. Trying to reopen connections that already exist.\n1. Trying a naked query when there is already an open connection to that server.\n1. Forgetting to fetch the results of a query.\n\nThe best way to figure things out is to use the debugging options.\n\n##Debugging Options\n\nThe easiest way to troubleshoot problems with your queries is to use the right options:\n\n|  Option | Argument | Description   |\n|------|------|------|\n|**`--explain`** | | Will print an explanation of exactly what was recieved and what was parsed.  This is the go-to explainer for troubleshooting errors.|\n|**`--dry_run`**  | | Will run **`--explain`**, and exit|\n|**`--debug`** | level |Will use the Python [logging.setLevel](https://docs.python.org/2/library/logging.html) command to control output to the screen.  Default is `INFO`|\n|**`--cleanup`** | | is an option that will tell DBMagic to cleanly release all connections.|\n\n###Explain\n\n**`--explain`** should be your go-to step for troubleshooting, as it will output everything that you put in your command, and everything that was done internally by the library. \n\nHere is an example that does just that:"
    },
    {
     "cell_type": "code",
     "collapsed": false,
     "input": "#make sure to change these if they don't make sense for you.\nuid='admin'\npwd='password'\ndsn='NZSQL'\n\ntry:\n    #######################################################################\n    # this does not cause an error.\n    #######################################################################\n    %db $dsn --connect --uid $uid --pwd $pwd --explain\n        \nexcept Exception, err:\n    # because we aren't doing anything here, the exception will go to the log\n    pass    \n\nfinally:\n    %db --cleanup",
     "language": "python",
     "metadata": {},
     "outputs": [
      {
       "output_type": "stream",
       "stream": "stdout",
       "text": "Command Line called : %db NZSQL --connect --uid admin --pwd password --explain\n-------------------\nArgs Parsed: Namespace(alias='NZSQL', cleanup=False, cmd='', commit=False, connect=True, debug='WARNING', default=None, disconnect=False, dry_run=False, execute=False, explain=True, fetch=0, help=False, list=None, naked=False, note=None, pwd=u'password', rollback=False, source='NZSQL', type='odbc', uid=u'admin', unsourced=False, verbose=False)\n-------------------\nData Source to Use: NZSQL\nData Source Type: odbc\nData Source Alias: NZSQL\nCommand to Execute: \nExecution Notes: None\n-------------------\nOpen Connections: {}\n-------------------\nIs this a Naked Query?: False\nIs this a Unsourced Query?: False\n-------------------\nAre we Connecting to DB?: True\nAre we Commiting Transaction?: False\nAre we Fetching records?: 0\nAre we Listing values?: None\nAre we Disconnecting from DB?: False\n=========================================================\n"
      }
     ],
     "prompt_number": 47
    },
    {
     "cell_type": "markdown",
     "metadata": {},
     "source": "We can break this down into a few sections:\n\nThe command line that you called, as it was seen by **`%db`**:\n\n    Command Line called : %db NZSQL --connect --uid admin --pwd password --explain\n    -------------------\n\nThe arguments that **`%db`** got back from the argument parser:\n\n    Args Parsed: Namespace(alias='NZSQL', cleanup=False, cmd='', commit=False, connect=True, debug='WARNING', default=None, disconnect=False, dry_run=False, execute=False, explain=True, fetch=0, help=False, list=None, naked=False, note=None, pwd=u'password', rollback=False, source='NZSQL', type='odbc', uid=u'admin', unsourced=False, verbose=False)\n    -------------------\n\nThe variables that **`%db`** set up:\n\n    Data Source to Use: NZSQL\n    Data Source Type: odbc\n    Data Source Alias: NZSQL\n    Command to Execute: \n    Execution Notes: None\n    -------------------\n\nThe connections that **`%db`** already had open.  This could be empty for a naked query, but typically if your connection name isn't in here it is a problem:\n    Open Connections: {}\n    -------------------\n\nAny special situations that **`%db`** detected:\n    Is this a Naked Query?: False\n    Is this a Unsourced Query?: False\n    -------------------\n\nAny actions that **`%db`** is going to take\n    Are we Connecting to DB?: True\n    Are we Commiting Transaction?: False\n    Are we Fetching records?: 0\n    Are we Listing values?: None\n    Are we Disconnecting from DB?: False\n\nIf there is something funny happening and you are not sure why, this should tell you exactly what is going on.\n\n###Cleanup\n\nI highly recommend you always have a command like **`%db --cleanup`** in a `try/finally` block so that you don't leave any open connections in case of error.  Cleanup will be run automatically when the library unloads, but it can cause all kinds of havoc if you aren't careful with connections.\n\n-------------------\n##Exceptions\n\nWhen the **`%db`** framework raises an error, it will always be a generic exception that will include:\n\n1. The function that threw the exception\n1. A specific error message either from **`%db`**, from the underlying library, from the implementation of the connection protocol, or from the database.  \n\n##Database-specific Errors\n\nIt is virtually impossible to catalog all the possible database and protocol errors, as they will be specific to you.  Instead, we just return them as robustly and clearly as possible.  We have shown many examples of how to catch those errors.\n\n##Logging\n\nUnderneath the sheets, **DBMagic** is using logging to record virtually everything that is going on.  You can expose this using the **`--debug`** option, detailed below.  By default, the logging is set to expose errors only.  However, you can reduce the logging level and see just about everything.  By default, this will appear in red, as it is going to stderr."
    },
    {
     "cell_type": "code",
     "collapsed": false,
     "input": "#make sure to change these if they don't make sense for you.\nuid='admin'\npwd='password'\ndsn='NZSQL'\n\ntry:\n    #######################################################################\n    # this does not cause an error.\n    #######################################################################\n    %db $dsn --connect --uid $uid --pwd $pwd --explain --debug DEBUG\n        \nexcept Exception, err:\n    # because we aren't doing anything here, the exception will go to the log\n    pass    \n\nfinally:\n    %db --cleanup",
     "language": "python",
     "metadata": {},
     "outputs": [
      {
       "output_type": "stream",
       "stream": "stderr",
       "text": "INFO:root: - Starting connection process\n"
      },
      {
       "output_type": "stream",
       "stream": "stderr",
       "text": "DEBUG:root: -- Working with connection 'NZSQL' of type 'odbc'\n"
      },
      {
       "output_type": "stream",
       "stream": "stderr",
       "text": "DEBUG:root: --- Working with connection 'NZSQL' of type 'odbc'\n"
      },
      {
       "output_type": "stream",
       "stream": "stderr",
       "text": "DEBUG:root: ---- Attempting to connect to 'NZSQL' \n"
      },
      {
       "output_type": "stream",
       "stream": "stderr",
       "text": "DEBUG:root: --- Connected data source 'NZSQL' as type 'odbc'\n"
      },
      {
       "output_type": "stream",
       "stream": "stderr",
       "text": "DEBUG:root: - Returning nothing\n"
      },
      {
       "output_type": "stream",
       "stream": "stderr",
       "text": "INFO:root: - Starting parsing process\n"
      },
      {
       "output_type": "stream",
       "stream": "stderr",
       "text": "DEBUG:root: -- The parsed arguments are: Namespace(alias=None, cleanup=True, cmd='', commit=False, connect=False, debug='WARNING', default=None, disconnect=False, dry_run=False, execute=False, explain=False, fetch=0, help=False, list=None, naked=False, note=None, pwd='', rollback=False, source='', type='odbc', uid='', unsourced=False, verbose=False)\n"
      },
      {
       "output_type": "stream",
       "stream": "stderr",
       "text": "DEBUG:root: --- No alias provided, using \n"
      },
      {
       "output_type": "stream",
       "stream": "stderr",
       "text": "DEBUG:root: -- Working with connection '' of type 'odbc'\n"
      },
      {
       "output_type": "stream",
       "stream": "stderr",
       "text": "DEBUG:root: --- The list value is 'sources'\n"
      },
      {
       "output_type": "stream",
       "stream": "stderr",
       "text": "DEBUG:root: --- Listing sources in ''\n"
      },
      {
       "output_type": "stream",
       "stream": "stderr",
       "text": "DEBUG:root: --- Listing '['NZR', 'SQLITE', 'NZSQL', 'LOCAL_MS', 'FZLNZ', 'TDL', 'FZL MSSQL 2012', 'FZLTD', 'FZL MSSQL 2008']'\n"
      },
      {
       "output_type": "stream",
       "stream": "stderr",
       "text": "DEBUG:root: --- This is not a naked query\n"
      },
      {
       "output_type": "stream",
       "stream": "stderr",
       "text": "DEBUG:root: -- Working with connection '' of type 'odbc'\n"
      },
      {
       "output_type": "stream",
       "stream": "stderr",
       "text": "DEBUG:root: --- The list value is 'sources'\n"
      },
      {
       "output_type": "stream",
       "stream": "stderr",
       "text": "DEBUG:root: --- Listing sources in ''\n"
      },
      {
       "output_type": "stream",
       "stream": "stderr",
       "text": "DEBUG:root: --- Listing '['NZR', 'SQLITE', 'NZSQL', 'LOCAL_MS', 'FZLNZ', 'TDL', 'FZL MSSQL 2012', 'FZLTD', 'FZL MSSQL 2008']'\n"
      },
      {
       "output_type": "stream",
       "stream": "stderr",
       "text": "DEBUG:root: --- This is NOT unsourced query with source '' and cmd ''\n"
      },
      {
       "output_type": "stream",
       "stream": "stderr",
       "text": "DEBUG:root: --- Setting current alias to NZSQL\n"
      },
      {
       "output_type": "stream",
       "stream": "stdout",
       "text": "Command Line called : %db NZSQL --connect --uid admin --pwd password --explain --debug DEBUG\n-------------------\nArgs Parsed: Namespace(alias='NZSQL', cleanup=False, cmd='', commit=False, connect=True, debug=u'DEBUG', default=None, disconnect=False, dry_run=False, execute=False, explain=True, fetch=0, help=False, list=None, naked=False, note=None, pwd=u'password', rollback=False, source='NZSQL', type='odbc', uid=u'admin', unsourced=False, verbose=False)\n-------------------\nData Source to Use: NZSQL\nData Source Type: odbc\nData Source Alias: NZSQL\nCommand to Execute: \nExecution Notes: None\n-------------------\nOpen Connections: {}\n-------------------\nIs this a Naked Query?: False\nIs this a Unsourced Query?: False\n-------------------\nAre we Connecting to DB?: True\nAre we Commiting Transaction?: False\nAre we Fetching records?: 0\nAre we Listing values?: None\nAre we Disconnecting from DB?: False\n=========================================================\n"
      }
     ],
     "prompt_number": 48
    },
    {
     "cell_type": "markdown",
     "metadata": {},
     "source": "One of the complications I have seen is that the logging protocol will sometimes deliver messages out of order, not in the way they are executed.\n\n--------------------\n\n##iPython Complications\n\niPython is totally awesome, and will change the way that you work with code and data.  I can't recommend it highly enough.  It was a **GREAT** experience to learn to create an extension.  While it took some learning it sure didn't take much.\n\n###Variables\n\nWhen trying to pass variables on the **`%db`** command line, you need to put a **`$`** in front of them so that they can be interpreted correctly. This isn't how you have to address them with Python code, just on the iPython lines."
    },
    {
     "cell_type": "markdown",
     "metadata": {},
     "source": "\n"
    },
    {
     "cell_type": "code",
     "collapsed": false,
     "input": "%reload_ext db\n\nuid='dbc'\npwd='dbc'\ndsn='TDL'\n\ntry:\n    #######################################################################\n    # this will send the values inside the variables to the library\n    #######################################################################\n    %db $dsn --connect --uid $uid --pwd $pwd \n    \n    #######################################################################\n    # this will send the raw text of 'dsn', 'uid', and 'pwd' to the library\n    # and cause an exception\n    #######################################################################\n    %db dsn --connect --uid uid --pwd pwd \n\n    # we pass the test if we get here.\n    assert True\n    \nexcept Exception, err:\n    # because we aren't doing anything here, the exception will go to the log\n    pass    \n\nfinally:\n    %db --cleanup",
     "language": "python",
     "metadata": {},
     "outputs": [
      {
       "output_type": "stream",
       "stream": "stderr",
       "text": "ERROR:root:The connection is 'dsn' the available connections are \n"
      },
      {
       "output_type": "stream",
       "stream": "stderr",
       "text": "ERROR:root:{'TDL': {'cursor': <pyodbc.Cursor object at 0x11719edb0>, 'alias': 'TDL', 'connection': <pyodbc.Connection object at 0x10c8190a0>, 'type': 'odbc'}}\n"
      },
      {
       "output_type": "stream",
       "stream": "stderr",
       "text": "ERROR:root:[IM002] [iODBC][Driver Manager]Data source name not found and no default driver specified. Driver could not be loaded (0) (SQLDriverConnect)\n"
      }
     ],
     "prompt_number": 15
    },
    {
     "cell_type": "markdown",
     "metadata": {},
     "source": "###Passing Strings\n\nWhen passing strings you don't need to put them in any type of quotes unless that is what is expected by the underlying database.  **DBMagic** will recieve and pass on any sources or database commands as-is."
    },
    {
     "cell_type": "code",
     "collapsed": false,
     "input": "%reload_ext db\n\ntable_name = 'test'\n\ntry:\n    #######################################################################\n    # this will connect and return values.\n    #######################################################################\n    good_results = %db TDL SELECT * FROM $table_name\n    \n    #######################################################################\n    # this will not work, because the single quotes are passed as part of the text.\n    # This would look like ''TDL'' and ''SELECT * FROM $table_name'' when the DB gets it.\n    #######################################################################\n    bad_results = %db 'TDL' 'SELECT * FROM $table_name'\n    \n    # we pass the test if we get here.\n    assert True\n    \nexcept Exception, err:   \n    # because we aren't doing anything here, the exception will go to the log\n    raise err\n    #pass\n    \nfinally:\n    # we will clean up the database connection, however.\n    %db --cleanup",
     "language": "python",
     "metadata": {},
     "outputs": [
      {
       "ename": "Exception",
       "evalue": "('execute_command', \"The connection 'TDL' is not registered\")",
       "output_type": "pyerr",
       "traceback": [
        "\u001b[0;31m---------------------------------------------------------------------------\u001b[0m\n\u001b[0;31mException\u001b[0m                                 Traceback (most recent call last)",
        "\u001b[0;32m<ipython-input-27-fc3201726a77>\u001b[0m in \u001b[0;36m<module>\u001b[0;34m()\u001b[0m\n\u001b[1;32m     16\u001b[0m \u001b[0;32mexcept\u001b[0m \u001b[0mException\u001b[0m\u001b[0;34m,\u001b[0m \u001b[0merr\u001b[0m\u001b[0;34m:\u001b[0m\u001b[0;34m\u001b[0m\u001b[0m\n\u001b[1;32m     17\u001b[0m     \u001b[0;31m# because we aren't doing anything here, the exception will go to the log\u001b[0m\u001b[0;34m\u001b[0m\u001b[0;34m\u001b[0m\u001b[0m\n\u001b[0;32m---> 18\u001b[0;31m     \u001b[0;32mraise\u001b[0m \u001b[0merr\u001b[0m\u001b[0;34m\u001b[0m\u001b[0m\n\u001b[0m\u001b[1;32m     19\u001b[0m     \u001b[0;31m#pass\u001b[0m\u001b[0;34m\u001b[0m\u001b[0;34m\u001b[0m\u001b[0m\n\u001b[1;32m     20\u001b[0m \u001b[0;34m\u001b[0m\u001b[0m\n",
        "\u001b[0;31mException\u001b[0m: ('execute_command', \"The connection 'TDL' is not registered\")"
       ]
      }
     ],
     "prompt_number": 27
    },
    {
     "cell_type": "markdown",
     "metadata": {},
     "source": "###Return Values\n\nIf you are fetching data from a single query, it will automatically be output to the screen.  Otherwise, it will not.  This is an iPython thing, unfortunately.\n\nIf you want your data to automatically be displayed, make sure it is the only (or last) operation in the cell."
    },
    {
     "cell_type": "code",
     "collapsed": false,
     "input": "%db NZSQL SELECT * FROM test",
     "language": "python",
     "metadata": {},
     "outputs": [
      {
       "metadata": {},
       "output_type": "pyout",
       "prompt_number": 45,
       "text": "[(3, 3, u'3'), (1, 1, u'1'), (2, 2, u'2')]"
      }
     ],
     "prompt_number": 45
    },
    {
     "cell_type": "markdown",
     "metadata": {},
     "source": "If there are multiple commands in a single window, only the last results will be automatically displayed."
    },
    {
     "cell_type": "code",
     "collapsed": false,
     "input": "%db NZSQL SELECT * FROM test\n%db --cleanup",
     "language": "python",
     "metadata": {},
     "outputs": [],
     "prompt_number": 44
    },
    {
     "cell_type": "markdown",
     "metadata": {},
     "source": "If it is in a try/finally statement it will not be returned automatically.  You will need to capture the output and print it to the screen yourself."
    },
    {
     "cell_type": "code",
     "collapsed": false,
     "input": "# you can change\ntable_name = 'test'\n\ntry:\n    results = %db NZSQL SELECT * FROM test\n    print results\nfinally:\n    %db --cleanup ",
     "language": "python",
     "metadata": {},
     "outputs": [
      {
       "output_type": "stream",
       "stream": "stdout",
       "text": "[(3, 3, u'3'), (2, 2, u'2'), (1, 1, u'1')]\n"
      }
     ],
     "prompt_number": 42
    },
    {
     "cell_type": "code",
     "collapsed": false,
     "input": "",
     "language": "python",
     "metadata": {},
     "outputs": []
    }
   ],
   "metadata": {}
  }
 ]
}