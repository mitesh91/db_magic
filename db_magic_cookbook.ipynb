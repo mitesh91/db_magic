{
 "metadata": {
  "name": "DB Magic Cookbook"
 },
 "nbformat": 3,
 "nbformat_minor": 0,
 "worksheets": [
  {
   "cells": [
    {
     "cell_type": "markdown",
     "metadata": {},
     "source": "# Tutorial\n\nHere are some practical examples of how to use DBMagic within iPython Notebook.  You can copy and paste these directly into your own code.\n\n## 1.0 Introduction\n\nThe best way to think about DBMagic is the way you might think of some of the many language adapters for (R, Ruby, Julia, Scala, and a host of others).  The idea behind DBMagic was to create the ability to talk to a data source in its own language with absolute minimal knowledge of the structures being built and used under the sheets.\n\n###1.1 The Problem\n\nFor example, to make a database connection over ODBC, one has to write code that looks like this:"
    },
    {
     "cell_type": "code",
     "collapsed": false,
     "input": "import pyodbc \n\n# Information on where the data actually resides\ndemo_db=\"MY_DB\"                                     \n\n# ODBC Connection Information\ndsn = \"MY_SRC\"                                                  \npw = \"LbhCrrxrqFarnxlUnpxre\".encode('rot13')                           \nodbc_connection_string = 'DSN=%s;PWD=%s;DB=%s' % (dsn, pw, demo_db ) \n\ncnxn = pyodbc.connect(odbc_connection_string) \ncursor = cnxn.cursor()\n\nfor row in cursor.tables():\n    print row.table_name",
     "language": "python",
     "metadata": {},
     "outputs": []
    },
    {
     "cell_type": "markdown",
     "metadata": {},
     "source": "In reality, this is a big barrier to people who understand data but aren't Python programmers.  \n\n###1.2 The Solution\n\nInstead, we want to have code that looks native to the person who is connecting to the data source.\n\nFor example, a SQL programmer wants to write code like:"
    },
    {
     "cell_type": "code",
     "collapsed": false,
     "input": "%db SELECT * FROM my_table",
     "language": "python",
     "metadata": {},
     "outputs": []
    },
    {
     "cell_type": "markdown",
     "metadata": {},
     "source": "DBMagic is designed to make this a reality.\n\n####1.2.1 Some Background\n\nWhen a **command** is executed properly with **DBMagic**, there are several things that need to happen:\n\n1. Create the objects needed to query a data source.\n1. Establish a **connection** to the data source.\n1. Execute a **command** over the connection.\n1. **Fetch** and/or **skip** the records returned by the query.\n1. End the **connection** to the data source\n1. Release the objects required to query a data source.\n\nIn order to do this, we need to do quite a few things to shield the users from implementation details.  \n\n---------------\n\n##2.0 How It Works\n\nThe DB Magic interface appears just as any other [cell magic](http://nbviewer.ipython.org/github/ipython/ipython/blob/1.x/examples/notebooks/Cell%20Magics.ipynb) or [iPython Magic Function](http://ipython.org/ipython-doc/dev/interactive/tutorial.html)."
    },
    {
     "cell_type": "markdown",
     "metadata": {},
     "source": "You install it with the **`%install_ext`** function ..."
    },
    {
     "cell_type": "code",
     "collapsed": false,
     "input": "%install_ext https://github.com/morgango/db_magic/blob/master/db.py",
     "language": "python",
     "metadata": {},
     "outputs": []
    },
    {
     "cell_type": "markdown",
     "metadata": {},
     "source": "You load it with the **`%load_ext`** function ..."
    },
    {
     "cell_type": "code",
     "collapsed": false,
     "input": "%load_ext db",
     "language": "python",
     "metadata": {},
     "outputs": []
    },
    {
     "cell_type": "markdown",
     "metadata": {},
     "source": "You run it with the **`%db`** function one one line ..."
    },
    {
     "cell_type": "code",
     "collapsed": false,
     "input": "# you can't really run this cell, this is just to demonstrate what it looks like.\n%db <source> <command> --options",
     "language": "python",
     "metadata": {},
     "outputs": []
    },
    {
     "cell_type": "markdown",
     "metadata": {},
     "source": "... where you are using:\n\n- **`source`**, a text string that will uniquely identify where the data is to be retrieved from\n- **`command`**, the text that is executed at the source.\n- ** `--options`**, specific actions that can be taken for finer control of the process.  These are optional. \n\nAlso, the same thing can be done across multiple lines:"
    },
    {
     "cell_type": "code",
     "collapsed": false,
     "input": "%%db <source> \n<command> \n--options",
     "language": "python",
     "metadata": {},
     "outputs": []
    },
    {
     "cell_type": "markdown",
     "metadata": {},
     "source": "In this case, the text of the entire cell is just concatenated and run like a single line.\n\n------------------------\n\n###2.1 Connections\n\nA key concept in DBMagic is connecting to remote data sources, such as a relational database over ODBC or JDBC.  In order to connect we will run code like:\n"
    },
    {
     "cell_type": "code",
     "collapsed": false,
     "input": "%db <source> --connect",
     "language": "python",
     "metadata": {},
     "outputs": []
    },
    {
     "cell_type": "markdown",
     "metadata": {},
     "source": "Where **`<source>`** is the name, location, or URL of the data source (depending on what protocol is being used).  For example:\n\n- ODBC will have a pre-defined local Data Source Name (DSN) or connection string.\n- JDBC will have a URL defining the connection (currently not supported).\n- SQLite will have a local path defining the location of the database (currently not supported)\n\n**`--connect`** is an option that will tell DBMagic to make a connection and store the object. <br>\n**`--disconnect`** is an option that will tell DBMagic to cleanly release the connection. <br>\n**`--cleanup`** is an option that will tell DBMagic to cleanly release all connections. <br>\n\nMore details on options are in Section 2.2\n\nHere is an example of a simple connection, and disconnection. We don't need to put quotes around any of the text.  The entire line will be passed to the underlying DBMagic library and parsed there."
    },
    {
     "cell_type": "code",
     "collapsed": false,
     "input": "# the data source is called TDL\n%db TDL --connect \n%db TDL --disconnect\n%db --cleanup",
     "language": "python",
     "metadata": {},
     "outputs": []
    },
    {
     "cell_type": "markdown",
     "metadata": {},
     "source": "\nYou can also use variables to specify options.\n\n**`--uid`** is an option that will tell DBMagic what user name to use. <br>\n**`--pwd`** is an option that will tell DBMagic what password to use.\n\nWe are setting variables for things we might commonly use. It is important to understand that this is iPython magic, not python.  When working with the **`%db`** you need to put a **`$`** in front of your variables or they will be passed as plain text (as above).\n\nIf you run this code, you should change the **`uid`**, **`pwd`**, and **`DSN`** variables to something that makes sense for your own system."
    },
    {
     "cell_type": "code",
     "collapsed": false,
     "input": "uid='dbc'\npwd='dbc'\nDSN='TDL'\n\n# we don't really need to put an = for each argument\n%db $DSN --connect --uid $uid --pwd $pwd \n%db $DSN --disconnect",
     "language": "python",
     "metadata": {},
     "outputs": []
    },
    {
     "cell_type": "markdown",
     "metadata": {},
     "source": "------------------------\n\n###2.2 Basic Options\n\nAn important part of using DBMagic is using options.  All of the arguments are listed in the class documentation and are available with the **`?`** operator."
    },
    {
     "cell_type": "code",
     "collapsed": false,
     "input": "%db?",
     "language": "python",
     "metadata": {},
     "outputs": []
    },
    {
     "cell_type": "markdown",
     "metadata": {},
     "source": "####2.1.1 Using `--list`\n\nThe simplest option is **`--list <argument>`**.  It takes a single argument which describes what needs to be listed.  This is the method for getting back information about the connections that are available on your system, or structures on a remote system.  Note that this command is completely platform agnostic and doesn't even require a database connection.\n\n**`--list sources`** is an option that will list metadata about specific data sources that are available through ODBC.  No connection is necessary here, as all the sources are available on the local machine through the ODBC API."
    },
    {
     "cell_type": "code",
     "collapsed": false,
     "input": "%db --list sources",
     "language": "python",
     "metadata": {},
     "outputs": []
    },
    {
     "cell_type": "markdown",
     "metadata": {},
     "source": "If this comes back as a list it just means that you don't have any ODBC data sources set up on your system.  If you set up one ([ODBC for SQLite](http://www.ch-werner.de/sqliteodbc/) is pretty easy) you will see it here.\n\n**`--list tables`** is an option that will list metadata about specific tables that are available through a given connection.  You will need to establish a connection in order to list tables.\n\nHere is an example of how to do this all in a single line:"
    },
    {
     "cell_type": "code",
     "collapsed": false,
     "input": "# we are hard coding all the text here, no variables\n%db TDL --connect --uid=dbc --pwd=dbc --list tables --disconnect",
     "language": "python",
     "metadata": {},
     "outputs": []
    },
    {
     "cell_type": "markdown",
     "metadata": {},
     "source": "Let's look at  another example that will:\n\n1. Connect to a **`DSN`** with variables of **`uid`** and **`pwd`**\n2. List all the tables in the default database.\n3. Disconnect from the database.\n\nThese are exactly the same commands, just run over multiple lines.  The **`%db`** command will keep database connections alive (in most cases) so you don't have to worry about it.\n\n**NOTE:** You should change the **`uid`**, **`pwd`**, and **`DSN`** variables to something that makes sense for your own system.  The DSN should be listed exactly as it was with the **`%db --list sources`** command, it is case sensitive"
    },
    {
     "cell_type": "code",
     "collapsed": false,
     "input": "uid='dbc'\npwd='dbc'\nDSN='TDL'\n\n# we don't really need to put an = for each argument\n%db $DSN --connect --uid $uid --pwd $pwd \n%db $DSN --list tables \n%db $DSN --disconnect",
     "language": "python",
     "metadata": {},
     "outputs": []
    },
    {
     "cell_type": "markdown",
     "metadata": {},
     "source": "While the **`db $DSN --list tables`** command returned the same value as above, iPython will only display the return value for the last command, in this case **`%db $DSN --disconnect`**.  Nothing to do with DBMagic, it is an iPython thing.\n\nHere is a more complete example of how to work with the tables.  In this case we will:\n\n1. Connect to a **`DSN`** with variables of **`uid`** and **`pwd`**\n1. List all the tables in the default database.\n1. Disconnect from the database.\n1. Use a Python loop to extract the table names.\n1. Print a few of the table names\n\nThis is a real mix of iPython, Python, and DBMagic and shows some of the interesting capabilities that are opened up."
    },
    {
     "cell_type": "code",
     "collapsed": false,
     "input": "# standard python variables assigned.\nuid='dbc'\npwd='dbc'\nDSN='TDL'\n\n# we don't really need to put an = for each argument\n%db $DSN --connect --uid $uid --pwd $pwd \n\n# remember the list of tables\ntables = %db $DSN --list tables \n\n# explicitly close our connection\n%db $DSN --disconnect\n\n# use standard python for iteration.  The underlying library (pyODBC) returns\n# an object with the table names and a lot of metadata, we will extract just\n# the table name because that is what we are interested in.\ntable_name_list = []\nfor table_tuple in tables:\n    table_name_list.append(table_tuple[2].lower())\n\n# output the first few table names\nprint table_name_list[:5]",
     "language": "python",
     "metadata": {},
     "outputs": []
    },
    {
     "cell_type": "markdown",
     "metadata": {},
     "source": "How this could be very useful is in doing operations across multiple tables, such as database administration and backup.  Iteration can be challenging within databases, but it is Python's strong suit.\n\n**`--list procedures`** is an option that will list metadata about specific stored procedures that are available through a given connection.  You will need to set up a connection first."
    },
    {
     "cell_type": "code",
     "collapsed": false,
     "input": "# we are hard coding all the text here, no variables\n%db TDL --connect --uid=dbc --pwd=dbc --list procedures --disconnect",
     "language": "python",
     "metadata": {},
     "outputs": []
    },
    {
     "cell_type": "markdown",
     "metadata": {},
     "source": "This can be used identically to how you use **`--list tables`**"
    },
    {
     "cell_type": "code",
     "collapsed": false,
     "input": "# standard python variables assigned.\nuid='dbc'\npwd='dbc'\nDSN='TDL'\n\n# we don't really need to put an = for each argument\n%db $DSN --connect --uid $uid --pwd $pwd \n\n# remember the list of procedures\nprocs = %db $DSN --list procedures \n\n# explicitly close our connection\n%db $DSN --disconnect\n\n# use standard python for iteration.  The underlying library (pyODBC) returns\n# an object with the procedure names and a lot of metadata, we will extract just\n# the proc name because that is what we are interested in.\nproc_name_list = []\nfor proc_tuple in procs:\n    proc_name_list.append(proc_tuple[2].lower())\n\n# output the first few proc names\nprint proc_name_list[:5]\n%db --cleanup ",
     "language": "python",
     "metadata": {},
     "outputs": [
      {
       "output_type": "stream",
       "stream": "stdout",
       "text": "['fladtest', 'flanova2way', 'flbptest', 'flcochranq', 'flcrosstab']\n"
      }
     ],
     "prompt_number": 20
    },
    {
     "cell_type": "markdown",
     "metadata": {},
     "source": "This is a pretty good example to show how you can integrate Python, iPython, and SQL into a pretty efficient workflow.\n\n------------------------\n\n###2.3 Commands\n\nWe have seen some very basic examples on how to connect to a data source, some basic options, and how to disconnect safely from a data source.  Now, onto something more interesting.\n\n####2.3.1 Standard Queries\n\nAs we showed above, there are a couple forms that a query can take: <br>\n\n    %db <source> <command> <--option> <--option>\n    %db <command> <--option> <--option> ...\n\nWhere we are providing:\n\n**`<source>`**, a text string that will uniquely identify where the data is to be retrieved from. <br>\n**`<command>`**, the text that is executed at the source. <br>\n** `--options`**, specific actions that can be taken for finer control of the process. \n\n####2.3.2 Common Options\n\nThe most commonly used options are: <br>\n** `--connect`**, connecting to **`source`** <br>\n** `--disconnect`**, disconnecting from **`source`**  <br>\n** `--uid`**, the user name to use to connect to **`source`** (optional)  <br>\n** `--pwd`**, the password to use to connect to **`source`** (optional)  <br>\n** `--commit`**, commiting a transaction to a database (optional) <br>\n** `--rollback`**, rolling back a transaction from a database (optional) <br>\n** `--fetch all`**, returning some or all of the records from a command (optional) <br>\n** `--fetch <n>`**, returning **`n`** records from a command (optional) <br>\n** `--skip <n>`**, skip the next **`n`** records returned from a command (optional) <br>\n** `--cleanup`**, disconnect all remaiing connections (optional, done when DBMagic is closed) <br>\n\n####2.3.3 Example Queries\n\nHere is a long-form example of how to:\n\n1. Connect to a database.\n1. Create a table and commit the changes\n1. Drop a table and commit the changes\n1. Cleanup all the open database connections."
    },
    {
     "cell_type": "code",
     "collapsed": false,
     "input": "# connect to the database, assumes the UID and PWD are in the DSN\n%db TDL --connect\n\n# create the table, commit at the same time\n%db TDL CREATE TABLE db_magic_test ( i1 integer, f1 float, v1 VARCHAR(100)) --commit\n\n# drop the table, commit at the same time\n%db TDL DROP TABLE db_magic_test --commit    \n\n# clean up any outstanding connections\n%db --cleanup",
     "language": "python",
     "metadata": {},
     "outputs": [],
     "prompt_number": 26
    },
    {
     "cell_type": "markdown",
     "metadata": {},
     "source": "There aren't any variables being used in this example, and there aren't any quotes needed around the strings.  Also, we aren't explicitly providing **`--uid`** and **`--pwd`** options.  This assumes that the **`DSN`** has these values hard-coded into it already.\n\nHere is the same thing, with all options being used on the same line.  You should be able to specify multiple options on the same line and get logical behavior regardless of the order in which they are specified."
    },
    {
     "cell_type": "code",
     "collapsed": false,
     "input": "# connect to the database, assumes the UID and PWD are in the DSN\n%db TDL CREATE TABLE db_magic_test ( i1 integer, f1 float, v1 VARCHAR(100)) --connect --commit --disconnect   \n%db TDL DROP TABLE db_magic_test --connect --commit --disconnect",
     "language": "python",
     "metadata": {},
     "outputs": [],
     "prompt_number": 42
    },
    {
     "cell_type": "markdown",
     "metadata": {},
     "source": "Remember, when a **command** is executed properly with **DBMagic**, there are several things that need to happen:\n\n1. Create the objects needed to query a data source.\n1. Establish a **connection** to the data source.\n1. Execute a **command** over the connection.\n1. **Fetch** and/or **skip** the records returned by the query.\n1. End the **connection** to the data source\n1. Release the objects required to query a data source.\n\nAs long as these options are selected, **DBMagic** will handle the rest."
    },
    {
     "cell_type": "code",
     "collapsed": false,
     "input": "def test_insert_table():\n    \n    table_name, sql_create_table, sql_drop_table, \\\n        sql_insert_into_table, sql_select_from_table, sql_count_table =  sql_generate()\n\n    # create the table, commit at the same time\n    %db $dsn $sql_create_table --commit    \n    \n    # insert the data from the simple dataset\n    for counter in range(len(data_simple)):\n        insert_statement = sql_insert_into_table % \\\n            (data_simple[counter][0], \\\n             data_simple[counter][1], \\\n             data_simple[counter][2])\n\n        %db $dsn $insert_statement\n\n    # commit after all the inserts, not with each one.\n    %db $dsn --commit    \n\n    # get a random sample of indexes to test\n    for index in random.sample(range(len(data_simple)), sample_size):\n\n        # select that value from the database\n        select_statement = sql_select_from_table % index\n        results = %db $dsn $select_statement --fetch all\n \n    # clean up after ourselves, commit at the time of the statement\n    %db $dsn $sql_drop_table --commit",
     "language": "python",
     "metadata": {},
     "outputs": []
    },
    {
     "cell_type": "markdown",
     "metadata": {},
     "source": "####2.3.4 Example Multiline Queries\n\nYou can also do queries on multiple lines, providing you are using the cell magic format of **`%%db`**."
    },
    {
     "cell_type": "code",
     "collapsed": false,
     "input": "%%db TDL \n\n    CREATE TABLE\n        db_magic_test ( \n            i1 integer, \n            f1 float, \n            v1 VARCHAR(100)) \n\n--connect --commit --disconnect   ",
     "language": "python",
     "metadata": {},
     "outputs": [],
     "prompt_number": 43
    },
    {
     "cell_type": "code",
     "collapsed": false,
     "input": "%%db TDL \n\n    DROP TABLE db_magic_test\n    \n--connect \n--commit \n--disconnect   ",
     "language": "python",
     "metadata": {},
     "outputs": [],
     "prompt_number": 44
    },
    {
     "cell_type": "markdown",
     "metadata": {},
     "source": "####2.3.5 Fetching and Skipping Data\n\n####2.3.6 Commiting and Rolling Back Transactions\n"
    },
    {
     "cell_type": "code",
     "collapsed": false,
     "input": "%db --cleanup\n## 1.0 The DBMagic Interface\n### 1.1 How it works\n#### 1.1.1 Multiline Magic\n### 1.2 Using Options\n### 1.3 Connections\n### 1.4 Naked Queries\n### 1.5 Unsourced Queries\n## 2.0 Listings\n### 2.1 Listing Data Sources\n### 2.2 Listing Tables\n### 2.3 Listing Stored Procedures\n## 3.0 Queries\n### 3.1 Simple Example\n### 3.2 Complicated Example\n### 3.3 Commiting data.\n## 4.0 Troubleshooting\n### 4.1 Design Philosophy\n### 4.2 iPython Complications\n#### 4.2.1 Passing Strings\n#### 4.2.2 Return Values\n### 4.3 Exceptions\n#### 4.3.1 Philosophy\n#### 4.3.2 Dealing with errors from the database.\n### 4.4 Debugging Options\n#### 4.4.1 --explain\n#### 4.4.2 --debug\n#### 4.4.3 --commit\n#### 4.4.4 --cleanup",
     "language": "python",
     "metadata": {},
     "outputs": [],
     "prompt_number": 29
    },
    {
     "cell_type": "markdown",
     "metadata": {},
     "source": "####2.3.7 Naked Queries\n\nA naked query is the simplest way to issue a command to a database.  All the steps are taken care of for you, including connection to the database, query execution, fetching all records from the database, and disconnection from the database.  \n\nIn order for the DBMagic to detect that you are performing a naked query, it has to have the following characteristics:\n\n- There is not an existing connection with the same name/alias to this database\n- There is both a command and a data source specified\n- The data source specified is valid.\n- There are no connection-related options used (like **`--connect`**, **`--execute`**, **`--disconnect`**).  However, You can specify other useful options (like **`--fetch`**, **`--commit`**, or **`--explain`**).\n\nA naked allows you to the same database operations in a way that might make more sense if you are coming from the database world.  This is very much akin to typing queries in a SQL tool.\n\nFor example, here are the same queries converted to 'naked' style.  "
    },
    {
     "cell_type": "code",
     "collapsed": false,
     "input": "%db TDL CREATE TABLE test ( i1 integer, f1 float, v1 VARCHAR(100))\n%db TDL DROP TABLE test  ",
     "language": "python",
     "metadata": {},
     "outputs": []
    },
    {
     "cell_type": "markdown",
     "metadata": {},
     "source": "####2.3.8 Unsourced Queries"
    }
   ],
   "metadata": {}
  }
 ]
}