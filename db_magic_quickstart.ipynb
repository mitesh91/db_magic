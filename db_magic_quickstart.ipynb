{
 "metadata": {
  "name": "DB Magic Quickstart"
 },
 "nbformat": 3,
 "nbformat_minor": 0,
 "worksheets": [
  {
   "cells": [
    {
     "cell_type": "markdown",
     "metadata": {},
     "source": "<h1 id=\"tocheading\">Table of Contents</h1>\n<div id=\"toc\"></div>\n<script type=\"text/javascript\" src=\"https://raw.github.com/kmahelona/ipython_notebook_goodies/master/ipython_notebook_toc.js\">"
    },
    {
     "cell_type": "markdown",
     "metadata": {},
     "source": "#Introduction\n\nThe best way to think about DBMagic is the same way you might think of some of the many language adapters for ( [R](http://ipython.org/ipython-doc/dev/config/extensions/rmagic.html), [Ruby](http://nbviewer.ipython.org/github/minad/iruby/blob/master/IRuby-Example.ipynb), [Julia](http://nbviewer.ipython.org/github/JuliaLang/IJulia.jl/blob/master/python/doc/JuliaMagic.ipynb), and [many others](https://github.com/ipython/ipython/wiki/A-gallery-of-interesting-IPython-Notebooks)).  \n\nWhen working with data of any real size and complexity, it begins to make far more sense to work with data in-place, rather than moving it to the iPython server and doing work on it there.  This usually entails using  a lanaguage other than Python (like SQL) on a remote server.  However, historically this hasn't been particularly easy to do for non-programmers.\n\nThe idea behind DBMagic is to give the end user the ability the ability to speak to a data source in its own language with absolute minimal knowledge of the programming libraries and structures being built and used under the sheets."
    },
    {
     "cell_type": "markdown",
     "metadata": {},
     "source": "DBMagic is designed to make this a reality.\n\n---------------\n\n#How It Works\n\nThe DB Magic interface appears just as any other [cell magic](http://nbviewer.ipython.org/github/ipython/ipython/blob/1.x/examples/notebooks/Cell%20Magics.ipynb) or [iPython Magic Function](http://ipython.org/ipython-doc/dev/interactive/tutorial.html).\n\nYou install it with the **`%install_ext`** function ..."
    },
    {
     "cell_type": "code",
     "collapsed": false,
     "input": "%install_ext https://raw.githubusercontent.com/morgango/db_magic/master/db.py",
     "language": "python",
     "metadata": {},
     "outputs": []
    },
    {
     "cell_type": "markdown",
     "metadata": {},
     "source": "You load it with the **`%load_ext`** function ..."
    },
    {
     "cell_type": "code",
     "collapsed": false,
     "input": "%load_ext db",
     "language": "python",
     "metadata": {},
     "outputs": []
    },
    {
     "cell_type": "markdown",
     "metadata": {},
     "source": "You run it with the **`%db`** function one one line ..."
    },
    {
     "cell_type": "code",
     "collapsed": false,
     "input": "# you can't really run this cell, this is just to demonstrate what it looks like.\n%db <source> <command> --options",
     "language": "python",
     "metadata": {},
     "outputs": []
    },
    {
     "cell_type": "markdown",
     "metadata": {},
     "source": "... where you are using:\n\n|  Item | Description   |\n|------|------|\n|   **`<source>`** | A text string that will uniquely identify where the data is to be retrieved from| \n|   **`<command>`**  | The text that is executed at the source (usually SQL).| \n|   **`--options`**  | Specific actions that can be taken for finer control of the process.  These are optional.| \n\n\nAlso, the same thing can be done across multiple lines:"
    },
    {
     "cell_type": "code",
     "collapsed": false,
     "input": "%%db <source> \n<command> \n--options",
     "language": "python",
     "metadata": {},
     "outputs": []
    },
    {
     "cell_type": "markdown",
     "metadata": {},
     "source": "In this case, the text of the entire cell is just concatenated and run like a single line.\n\nWhere **`<source>`** is the name, location, or URL of the data source (depending on what protocol is being used).  For example:\n\n- ODBC will have a pre-defined local Data Source Name (DSN) or connection string.\n- JDBC will have a URL defining the connection (currently not supported).\n- SQLite will have a local path defining the location of the database (currently not supported)\n\n%db also has options that are used to perform specific actions.\n\n|  Option | Description   |\n|------|------|\n|**`--connect`** | is an option that will tell DBMagic to make a connection and store the object.|\n|**`--disconnect`** | is an option that will tell DBMagic to cleanly release the connection.|\n|**`--cleanup`** | is an option that will tell DBMagic to cleanly release all connections.|\n\nThere are a lot more options than this, just keep scrolling."
    },
    {
     "cell_type": "markdown",
     "metadata": {},
     "source": "------------------------\n\n##An Example\n\nHere is a simple example.  If you have an ODBC data source set up by the name of **`NZSQL`** this will work great, otherwise you will need to change it.\n"
    },
    {
     "cell_type": "code",
     "collapsed": false,
     "input": "%db NZSQL DROP TABLE test --connect --disconnect --commit",
     "language": "python",
     "metadata": {},
     "outputs": []
    },
    {
     "cell_type": "markdown",
     "metadata": {},
     "source": "\nYou can also use variables to specify options.\n\n|  Option | Description   |\n|------|------|\n|**`--uid`** | is an option that will tell DBMagic what user name to use. |\n|**`--pwd`** | is an option that will tell DBMagic what password to use.| \n\nWe are setting variables for things we might commonly use. It is important to understand that this is iPython magic, not python.  When working with the **`%db`** you need to put a **`$`** in front of your variables or they will be passed as plain text (as above).\n\nIf you run this code, you should change the **`uid`**, **`pwd`**, and **`DSN`** variables to something that makes sense for your own system."
    },
    {
     "cell_type": "code",
     "collapsed": false,
     "input": "uid='dbc'\npwd='dbc'\nDSN='TDL'\n\n# we don't really need to put an = for each argument\n%db $DSN --connect --uid $uid --pwd $pwd \n%db $DSN --disconnect",
     "language": "python",
     "metadata": {},
     "outputs": []
    },
    {
     "cell_type": "markdown",
     "metadata": {},
     "source": "##Some Background\n\nWhen a **command** is executed properly with **DBMagic**, there are several things that need to happen:\n\n1. Create the objects needed to query a data source.\n1. Establish a **connection** to the data source.\n1. Execute a **command** over the connection.\n1. **Fetch** and/or **skip** the records returned by the query.\n1. End the **connection** to the data source\n1. Release the objects required to query a data source.\n\nIn order to do this, we need to do quite a few things to shield the users from implementation details. \n\n------------------------\n\n##Basic Options\n\nAn important part of using DBMagic is using options.  All of the arguments are listed in the class documentation and are available with the **`?`** operator."
    },
    {
     "cell_type": "code",
     "collapsed": false,
     "input": "%db?",
     "language": "python",
     "metadata": {},
     "outputs": []
    },
    {
     "cell_type": "markdown",
     "metadata": {},
     "source": "This is a pretty good example to show how you can integrate Python, iPython, and SQL into a pretty efficient workflow.\n\n------------------------\n\n#Commands and Queries\n\nWe have seen some very basic examples on how to connect to a data source, some basic options, and how to disconnect safely from a data source.  Now, onto something more interesting.\n\n##Standard Queries\n\nAs we showed above, there are a couple forms that a query can take: <br>\n\n    %db <source> <command> <--option> <--option>\n    %db <command> <--option> <--option> ...\n\nWhere we are providing:\n\n|  Argument | Description   |\n|------|------|\n|**`<source>`** |a text string that will uniquely identify where the data is to be retrieved from.|\n|**`<command>`** | the text that is executed at the source|\n|** `--options`** | specific actions that can be taken for finer control of the process|\n\nSource and command are almost always present in a **`%db`** call, while there are many options available as part of working with a database.\n\n##Common Options Used With Connections\n\nThe most commonly used options are:\n\n|  Option | Description   |\n|------|------|\n| ** `--connect`**|  Connect to **`source`** |\n| ** `--disconnect`** | Disconnect from **`source`** |\n| ** `--uid`** | The user name to use to connect to **`source`** (optional) |\n| ** `--pwd`** | The password to use to connect to **`source`** (optional) |\n| ** `--commit`** | Commit a transaction to a database (optional) |\n| ** `--rollback`** | Roll back a transaction from a database (optional) |\n| ** `--fetch all`** |  Return some or all of the records from a command (optional) |\n| ** `--fetch <n>`** |  Return **`n`** records from a command (optional) |\n| ** `--skip <n>`** |  Skip the next **`n`** records returned from a command (optional) |\n| ** `--cleanup`** |  Disconnect all remaining connections (optional, done when DBMagic is closed) |\n\nWe will provide detailed examples of each of these.\n\n##Usage\n\nHere is a long-form example of how to:\n\n1. Connect to a database.\n1. Create a table and commit the changes\n1. Drop a table and commit the changes\n1. Cleanup all the open database connections."
    },
    {
     "cell_type": "code",
     "collapsed": false,
     "input": "# connect to the database, assumes the UID and PWD are in the DSN\n%db TDL --connect\n\n# create the table, commit the changes at the same time\n%db TDL CREATE TABLE db_magic_test ( i1 integer, f1 float, v1 VARCHAR(100)) --commit\n\n# drop the table, commit the changes at the same time\n%db TDL DROP TABLE db_magic_test --commit    \n\n# clean up any outstanding connections\n%db --cleanup",
     "language": "python",
     "metadata": {},
     "outputs": []
    },
    {
     "cell_type": "markdown",
     "metadata": {},
     "source": "There aren't any variables being used in this example, and there aren't any quotes needed around the strings.  Also, we aren't explicitly providing **`--uid`** and **`--pwd`** options.  This assumes that the **`DSN`** has these values hard-coded into it already.\n\nHere is the same thing, with all options being used on the same line.  You can specify multiple options on the same line and get logical behavior regardless of the order in which they are specified."
    },
    {
     "cell_type": "code",
     "collapsed": false,
     "input": "# connect to the database, assumes the UID and PWD are in the DSN\n%db TDL CREATE TABLE db_magic_test ( i1 integer, f1 float, v1 VARCHAR(100)) --connect --commit --disconnect   \n%db TDL DROP TABLE db_magic_test --connect --commit --disconnect",
     "language": "python",
     "metadata": {},
     "outputs": [],
     "prompt_number": 82
    },
    {
     "cell_type": "markdown",
     "metadata": {},
     "source": "Remember, when a **command** is executed properly with **DBMagic**, there are several things that need to happen:\n\n1. Create the objects needed to query a data source.\n1. Establish a **connection** to the data source.\n1. Execute a **command** over the connection.\n1. **Fetch** and/or **skip** the records returned by the query (this is optional)\n1. End the **connection** to the data source\n1. Release the objects required to query a data source.\n\nAs long as these options are selected, **DBMagic** will handle the rest."
    },
    {
     "cell_type": "markdown",
     "metadata": {},
     "source": "###Commiting and Rolling Back Transactions\n\n**`DBMagic`** has full support for [database transactions](http://en.wikipedia.org/wiki/Commit_(data_management)) through its **`commit`** and **`rollback`** options.\n\n|  Option | Description   |\n|------|------|\n| ** `--commit`** | Commits the current transaction to the database.  This command is passed through directly to the underlying driver and to the database. |\n| ** `--rollback`** | Rolls back the current transaction to the database.  This command is passed through directly to the underlying driver and to the database. |\n\n\n###Fetching and Skipping Data\n\nExecuting queries are cool, but the most important thing is actually getting your hands on the data.  In order to do this, we need to use the **`fetch`** option.\n\n|  Option  |  Argument |Description   |\n|----------| -----------|------|\n| ** `--fetch`** | ** `all`** |  Returns all records.  If the query did not generate records, you may get back a warning message, but no exception. |\n| ** `--fetch`**| ** `<n>`** |  Returns n records, where n > 0.  This is most commonly used when there are a large number of records to return and you don't want them all at once.  This can be run multiple times if n is less than the number of records. |\n| ** `--skip`**| ** `<n>`** |  Skips n records, where n > 0.  The underlying driver will simply not deliver the records back to iPython. |\n\n### A Comprehensive Example\n\nHere is a comprehensive example that will:\n\n1. Connect to a data source\n1. Create a table.\n1. Populate the table.\n1. Commit the changes.\n1. Query the database and count the number of records.\n1. Fetch the results of the count.\n1. Print the results\n1. Clean up the table.\n1. Close the connection"
    },
    {
     "cell_type": "code",
     "collapsed": false,
     "input": "uid='dbc'\npwd='dbc'\ndsn='TDL'\ncreate_table_sql = 'CREATE TABLE db_magic_test ( i1 integer)'\ninsert_table_sql = 'INSERT INTO db_magic_test VALUES(%s)'\ncount_table_sql = 'SELECT COUNT(*) from db_magic_test'\nrecord_count = 10\n\ntry:\n    \n    # steps 1 -- connect to the data\n    %db $dsn --connect\n\n    # steps 2 -- create the table\n    %db $dsn $create_table_sql --commit   \n\n    # step 3 -- populate the data\n    for counter in range(record_count):\n\n        insert_statement_text = insert_table_sql % counter\n        %db $dsn $insert_statement_text\n\n    # step 4 -- commit the data\n    %db $dsn --commit    \n\n    # steps 5&6 -- count and fetch the results\n    results = %db $dsn $count_table_sql --fetch all\n\n    # step 7 -- print the result\n    print (\"There are %s records inserted.\" % results[0][0])\n\n    # step 8 -- clean up the table in the DB\n    %db $dsn DROP TABLE db_magic_test --commit\n\n    # step 9 -- close our connection\n    %db $dsn --disconnect\n\nfinally:\n    \n    # step 9 -- extra insurance to make sure connections get closed.\n    %db --cleanup",
     "language": "python",
     "metadata": {},
     "outputs": [
      {
       "output_type": "stream",
       "stream": "stdout",
       "text": "There are 10 records inserted.\n"
      }
     ],
     "prompt_number": 7
    },
    {
     "cell_type": "markdown",
     "metadata": {},
     "source": "It is worth understanding a few things here:\n\n- We used a string substitution in step 3 to re-use the SQL of the insert statement.  This can't be done directly on the **`db`** line, due to limitations in iPython.\n- We used a **`try/finally`** block because if the query fails there will be an exception generated.  With this pattern you will make sure that your connection gets shut down regardless of what happens.  Your error handling could be more complicated.\n- The **`results`** are returned as a list of rows and come directly from the underlying library (in this case it is a pyRow from pyOBDC).  **`results[0]`** would return the first row, **`results[n-1]`** would return the nth record.\n- You can also use the field name as part of a pyRow object.  Using **`results[n].age`** would return **`age`** field from the nth record.\n\n##Convienence Methods\n\nThere are a lot of options available in this package, but in reality for everyday use you don't need to use most of them.  ITo simplify, I have added some convenience methods that make coding a lot easier to do, with far fewer options.\n\n###Naked Queries\n\nlf you aren't a software developer, typically you want to issue a query and get back the results and not deal with configuration.  In order to facilitate this, we came up with the idea of a **naked query**.\n\nA naked query is the simplest way to issue a command to a database.\n\nInstead of specifying **`$dsn`** and **`--options`** on every line ...\n\n**`%db $dsn --connect \n%db $dsn $sql_create_table --commit\n%db $dsn $sql_drop_table --commit\n%db $dsn --disconnect`**\n\n... the SQL will look like: \n\n**`%db $dsn $sql_create_table\n%db $dsn $sql_drop_table`**\n\nAll the steps are taken care of for you, including connection to the database, query execution, fetching all records from the database, and disconnection from the database.  \n  \nIn order for DBMagic to detect that you are performing a naked query, it has to have the following characteristics:\n\n- There is not an existing connection with the same name/alias to this database\n- There is both a command and a data source specified\n- The data source specified is valid.\n- There are no connection-related options used (like **`--connect`**, **`--execute`**, **`--disconnect`**).  However, You can specify other useful options (like **`--fetch`**, **`--commit`**, or **`--explain`**).\n\nA **naked query** allows you to the same database operations in a way that might make more sense if you are coming from the database world.  This is very much akin to typing queries in a SQL tool.\n\nFor example, here are a few of the queries converted in our comprehensive example converted to 'naked' style.  "
    },
    {
     "cell_type": "code",
     "collapsed": false,
     "input": "%db TDL DROP TABLE test  ",
     "language": "python",
     "metadata": {},
     "outputs": [
      {
       "output_type": "stream",
       "stream": "stderr",
       "text": "WARNING:root:No results.  Previous SQL was not a query.\n"
      }
     ],
     "prompt_number": 15
    },
    {
     "cell_type": "code",
     "collapsed": false,
     "input": "%db TDL CREATE TABLE test ( i1 integer, f1 float, v1 VARCHAR(100))",
     "language": "python",
     "metadata": {},
     "outputs": [
      {
       "output_type": "stream",
       "stream": "stderr",
       "text": "WARNING:root:No results.  Previous SQL was not a query.\n"
      }
     ],
     "prompt_number": 16
    },
    {
     "cell_type": "markdown",
     "metadata": {},
     "source": "When you do a **naked query** it will automatically try to use the **`--fetch`** option to return records.  If this was a query that doesn't have records to return, a warning message will be printed to the log.\n\nYou'll notice that there aren't any options here, just a connection name and SQL.  The library will attempt to figure out exactly the source that you are trying to connect to and will execute the query and return results (if available). This is the way that I wanted to use iPython for database queries, removing all the hinderances from working with data.  However, we can still take advantage of the great UI and programming environment.\n\nHere is a more verbose style of coding, where we are making sure that we don't try to create a table that already exists."
    },
    {
     "cell_type": "code",
     "collapsed": false,
     "input": "table_name = 'test'\n\n# get a list of all the tables\ntables = %db TDL --list tables --connect --disconnect\n\n# make a list of just the table names\ntable_list = []\nfor table_tuple in tables:\n    table_list.append(table_tuple[2].lower())\n\n# drop the table, if it exists already\nif table_name in table_list:\n    %db TDL DROP TABLE $table_name    \ntry:\n    # create the table\n    %db TDL CREATE TABLE $table_name ( i1 integer, f1 float, v1 VARCHAR(100))\nfinally:\n    %db --cleanup ",
     "language": "python",
     "metadata": {},
     "outputs": [
      {
       "output_type": "stream",
       "stream": "stderr",
       "text": "WARNING:root:No results.  Previous SQL was not a query.\n"
      },
      {
       "output_type": "stream",
       "stream": "stderr",
       "text": "WARNING:root:No results.  Previous SQL was not a query.\n"
      }
     ],
     "prompt_number": 13
    },
    {
     "cell_type": "markdown",
     "metadata": {},
     "source": "###Unsourced Queries\n\nAnother common pattern in databases is to make single connection to a database, then issue multiple commands against it.  While specifiying the **`source`** is useful if you have multiple connnections, it isn't always necessary or desirable if you have a simple use case.\n\nIn this case, we have the idea of **unsourced queries**, where database commands that don't have a **`source`** will be assumed to be against the last successful connection.\n\nThese are very similar to the tests for the naked queries , but they are done as **unsourced queries** .  That is, we only specify the DSN once, and refer to the previous DSN automagically.\n\nInstead of specifying **`$dsn`** on every line ...\n\n**`%db $dsn --connect --uid=$uid --pwd=$pwd\n%db $dsn $sql_create_table --commit\n%db $dsn $sql_insert_records --commit\n%db $dsn --disconnect`**\n\n... the SQL will look like: \n\n**`%db $dsn --connect --uid=$uid --pwd=$pwd\n%db $sql_create_table\n%db $insert_records\n%db --commit\n%db --disconnect`**\n\nThis is also a more friendly way of writing code, and accomplishes the exact same thing.\n\nIn order for DBMagic to detect that you are performing a naked query, it has to have the following characteristics:\n\n- There is an existing connection.\n- There is not a valid connection specified on the command line.\n- There is both a command and a data source specified\n- There are no connection-related options used (like **`--cleanup`**, **`--connect`**, **`--disconnect`**, or **`--execute`**)."
    },
    {
     "cell_type": "code",
     "collapsed": false,
     "input": "uid='dbc'\npwd='dbc'\ndsn='TDL'\ncreate_table_sql = 'CREATE TABLE db_magic_test ( i1 integer)'\ninsert_table_sql = 'INSERT INTO db_magic_test VALUES(%s)'\ncount_table_sql = 'SELECT COUNT(*) from db_magic_test'\nrecord_count = 10\n\ntry:\n    \n    # steps 1 -- connect to the data, specify the DSN\n    %db $dsn --connect\n\n    # steps 2 -- create the table, assume $dsn\n    %db $create_table_sql --commit   \n\n    # step 3 -- populate the data, assume $dsn\n    for counter in range(record_count):\n\n        insert_statement_text = insert_table_sql % counter\n        %db $insert_statement_text\n\n    # step 4 -- commit the data, assume $dsn\n    %db --commit    \n\n    # steps 5&6 -- count and fetch the results, assume $dsn\n    results = %db $count_table_sql --fetch all\n\n    # step 7 -- print the result, assume $dsn\n    print (\"There are %s records inserted.\" % results[0][0])\n\n    # step 8 -- clean up the table in the DB, assume $dsn\n    %db DROP TABLE db_magic_test --commit\n\n    # step 9 -- close our connection\n    %db $dsn --disconnect\n\nfinally:\n    \n    # step 9 -- extra insurance to make sure connections get closed.\n    %db --cleanup",
     "language": "python",
     "metadata": {},
     "outputs": [
      {
       "output_type": "stream",
       "stream": "stderr",
       "text": "WARNING:root:No results.  Previous SQL was not a query.\n"
      },
      {
       "output_type": "stream",
       "stream": "stderr",
       "text": "WARNING:root:No results.  Previous SQL was not a query.\n"
      },
      {
       "output_type": "stream",
       "stream": "stderr",
       "text": "WARNING:root:No results.  Previous SQL was not a query.\n"
      },
      {
       "output_type": "stream",
       "stream": "stderr",
       "text": "WARNING:root:No results.  Previous SQL was not a query.\n"
      },
      {
       "output_type": "stream",
       "stream": "stderr",
       "text": "WARNING:root:No results.  Previous SQL was not a query.\n"
      },
      {
       "output_type": "stream",
       "stream": "stderr",
       "text": "WARNING:root:No results.  Previous SQL was not a query.\n"
      },
      {
       "output_type": "stream",
       "stream": "stderr",
       "text": "WARNING:root:No results.  Previous SQL was not a query.\n"
      },
      {
       "output_type": "stream",
       "stream": "stderr",
       "text": "WARNING:root:No results.  Previous SQL was not a query.\n"
      },
      {
       "output_type": "stream",
       "stream": "stderr",
       "text": "WARNING:root:No results.  Previous SQL was not a query.\n"
      },
      {
       "output_type": "stream",
       "stream": "stderr",
       "text": "WARNING:root:No results.  Previous SQL was not a query.\n"
      },
      {
       "output_type": "stream",
       "stream": "stderr",
       "text": "WARNING:root:No results.  Previous SQL was not a query.\n"
      },
      {
       "output_type": "stream",
       "stream": "stderr",
       "text": "WARNING:root:No results.  Previous SQL was not a query.\n"
      },
      {
       "output_type": "stream",
       "stream": "stderr",
       "text": "WARNING:root:No results.  Previous SQL was not a query.\n"
      },
      {
       "output_type": "stream",
       "stream": "stdout",
       "text": "There are 10 records inserted.\n"
      }
     ],
     "prompt_number": 14
    }
   ],
   "metadata": {}
  }
 ]
}