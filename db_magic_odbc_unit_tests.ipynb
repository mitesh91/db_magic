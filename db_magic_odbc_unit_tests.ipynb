{
 "metadata": {
  "name": "DB Magic ODBC Tests"
 },
 "nbformat": 3,
 "nbformat_minor": 0,
 "worksheets": [
  {
   "cells": [
    {
     "cell_type": "markdown",
     "metadata": {},
     "source": "## Introduction\n\nThese are the unit tests for [DB Magic](http://morgango.github.io/db_magic/).  Because the package is designed to be run in iPython notebook, I decided to do the unit testing here as well.  These are examples of how the software may be run, and this can be downloaded and executed in your own environment."
    },
    {
     "cell_type": "markdown",
     "metadata": {},
     "source": "### Loading Libraries\n\nWe are using ipython_nose for an interface to testing, and of course db is being tested."
    },
    {
     "cell_type": "code",
     "collapsed": false,
     "input": "%reload_ext ipython_nose\n%reload_ext db",
     "language": "python",
     "metadata": {},
     "outputs": [],
     "prompt_number": 1
    },
    {
     "cell_type": "markdown",
     "metadata": {},
     "source": "### Testing Variables\n\nYou can adjust these variables for maximum effect on the tests below.  Configuration for various databases may require different username and passwords and the debug_level will help to troubleshoot internal issues within db magic."
    },
    {
     "cell_type": "code",
     "collapsed": false,
     "input": "import logging\n\n# you can adjust these as needed.\nuid = 'dbc'\npwd = 'dbc'\ndsn = 'TDL'\n\n# if you want more details, switch debug level to 'INFO' or 'DEBUG'\ndebug_level = 'DEBUG'",
     "language": "python",
     "metadata": {},
     "outputs": [],
     "prompt_number": 2
    },
    {
     "cell_type": "markdown",
     "metadata": {},
     "source": "Try not to modify the actual tests themselves, as we want them to be very consistent across platforms.\n\n### Setup Functions\n\nThese functions are used to setup and run on virtually all tests."
    },
    {
     "cell_type": "code",
     "collapsed": false,
     "input": "def std_setup_function():\n    \"\"\" a standard setup function to ensure we have a consistent method for creating a database \"\"\"\n    #%reload_ext db \n    %db $dsn --connect --uid=$uid --pwd=$pwd\n \ndef std_teardown_function():\n    \"\"\" a standard teardown function to ensure we don't leave any database connections open \"\"\"\n    %db --cleanup\n    #%unload_ext db",
     "language": "python",
     "metadata": {},
     "outputs": [],
     "prompt_number": 3
    },
    {
     "cell_type": "markdown",
     "metadata": {},
     "source": "###Listing Tests\n\nThese tests cover the **`list`** functions, read-only information about the database."
    },
    {
     "cell_type": "code",
     "collapsed": false,
     "input": "def test_list_tables():\n    \"\"\" \n    See if a list of tables can be generated.\n    \"\"\"\n    \n    tables = %db --list tables --explain\n    logging.info(tables)\n    \n    assert tables is not None\n    assert type(tables) == type([])\n    assert len(tables) > 0\n\ntest_list_tables.setup = std_setup_function\ntest_list_tables.teardown = std_teardown_function",
     "language": "python",
     "metadata": {},
     "outputs": [],
     "prompt_number": 4
    },
    {
     "cell_type": "code",
     "collapsed": false,
     "input": "def test_list_procs():\n    \"\"\" \n    See if a list of stored procedures can be generated.\n    \"\"\"\n    procs = %db --list procedures\n    logging.info(procs)\n    \n    assert procs is not None\n    assert type(procs) == type([])\n    assert len(procs) > 0\n\ntest_list_procs.setup = std_setup_function\ntest_list_procs.teardown = std_teardown_function",
     "language": "python",
     "metadata": {},
     "outputs": [],
     "prompt_number": 5
    },
    {
     "cell_type": "code",
     "collapsed": false,
     "input": "def test_list_odbc_sources():\n    \"\"\" \n    See if a list of ODBC data sources can be generated.\n    \"\"\"\n    sources = %db --list sources\n    logging.info(sources)\n    \n    assert sources is not None\n    assert type(sources) == type([])\n    assert len(sources) > 0\n    assert dsn in sources\n    \ntest_list_odbc_sources.setup = std_setup_function\ntest_list_odbc_sources.teardown = std_teardown_function",
     "language": "python",
     "metadata": {},
     "outputs": [],
     "prompt_number": 6
    },
    {
     "cell_type": "markdown",
     "metadata": {},
     "source": "###Creating Data\n\nThese tests cover the **`SQL`** functions, focusing on inserting data.  You should ensure that the **`uid`** and **`pwd`** provided in the testing variables is able to create tables and insert data.\n\n#### SQL Needed for Tests\n\nWe need to be able to create consistently new tables that won't interfere with one another if tests are run repeatedly."
    },
    {
     "cell_type": "code",
     "collapsed": false,
     "input": "def sql_generate():\n    \"\"\" a function that generates SQL \"\"\"\n    import time\n\n    table_name = \"test_\" + str(int(time.time()))\n    sql_create_table = \"CREATE TABLE \" + table_name + \" ( i1 integer, f1 float, v1 VARCHAR(100))\"\n    sql_drop_table = \"DROP TABLE \" + table_name\n    sql_insert_into_table = \"INSERT INTO \" + table_name + \" VALUES(%d,%f,'%s')\"\n    sql_select_from_table = \"SELECT * FROM \" + table_name + \" WHERE i1 = %d\"\n    sql_count_table = \"SELECT COUNT(*) AS rc FROM \" + table_name\n    \n    return  table_name, \\\n            sql_create_table, \\\n            sql_drop_table, \\\n            sql_insert_into_table, \\\n            sql_select_from_table, \\\n            sql_count_table\n",
     "language": "python",
     "metadata": {},
     "outputs": [],
     "prompt_number": 7
    },
    {
     "cell_type": "markdown",
     "metadata": {},
     "source": "#### Data Needed for Tests\n\nWe need to be able to create data for tests as well.  We can use both simple (iterative) and complex (pseudorandom) data."
    },
    {
     "cell_type": "code",
     "collapsed": false,
     "input": "def data_generate(table_records=500, seed = 124312340793481203426):\n    \"\"\" a function that generates data for testing with SQL \"\"\"    \n    \n    import random\n    import string\n        \n    # if we change the seed variable we will get different values, but providing\n    # a seed value ensures we get similar values from each run.\n    random.seed(seed)\n    \n    table_data_simple = {}\n    table_data_random = {}\n    \n    for counter in range(table_records):\n        # generate a simple string, just variations on the counter\n        table_data_simple[counter] = [counter, \\\n                                      counter*1.0, \\\n                                      \"VALUE = %s\" % counter]\n        # generate more random data, is repeatable based on the seed variable.\n        table_data_random[counter] = \\\n            [random.randrange(1000), \\\n             random.random(), \\\n             ''.join(random.choice(string.ascii_uppercase + string.digits) for _ in range(75))]\n            \n    return table_data_simple, table_data_random",
     "language": "python",
     "metadata": {},
     "outputs": [],
     "prompt_number": 8
    },
    {
     "cell_type": "markdown",
     "metadata": {},
     "source": "### Setup Functions\n\nThese are very similar to the tests for the list functions."
    },
    {
     "cell_type": "code",
     "collapsed": false,
     "input": "def std_create_setup_function():\n    \"\"\" a standard setup function to ensure we have a consistent method for sql statements\"\"\"\n    std_setup_function()\n \ndef std_create_teardown_function():\n    \"\"\" a standard teardown function to ensure we don't leave any database connections open \"\"\"\n    std_teardown_function()",
     "language": "python",
     "metadata": {},
     "outputs": [],
     "prompt_number": 9
    },
    {
     "cell_type": "markdown",
     "metadata": {},
     "source": "###Data and Structure Creation Tests\n\nThese tests cover the **`SQL`** functions, where we will be interacting directly with the database.  \n\nOne of the tricky things here is that we don't want to have collisions when creating tables.  We avoid this by using the sql_generate() function and by dropping our tables when we finish each test."
    },
    {
     "cell_type": "code",
     "collapsed": false,
     "input": "# these needs to be module level variables so they can be shared across tests and setup/teardown\ntable_records = 5\nsample_size = 5\ndata_simple, data_random = data_generate(table_records)\n\ndef test_create_table():\n    \"\"\" \n    See if a table can be created successfully\n    \"\"\"\n\n    table_name, sql_create_table, sql_drop_table, \\\n        sql_insert_into_table, sql_select_from_table, sql_count_table =  sql_generate()\n\n    # create the table and commit it.\n    %db $dsn $sql_create_table --commit\n    \n    tables = %db --list=tables --explain\n\n    # make sure the table we created is in the system metadata\n    table_list = []\n    for table_tuple in tables:\n        table_list.append(table_tuple[2].lower())\n\n    print table_list.index(table_name)\n    assert table_name in table_list    \n \n    # clean up after ourselves\n    %db $dsn $sql_drop_table --commit\n    \ntest_create_table.setup = std_create_setup_function\ntest_create_table.teardown = std_create_teardown_function",
     "language": "python",
     "metadata": {},
     "outputs": [],
     "prompt_number": 10
    },
    {
     "cell_type": "code",
     "collapsed": false,
     "input": "def test_insert_table():\n    \"\"\" \n    See if a table can have data inserted into it.\n    \"\"\"\n    import random\n    \n    table_name, sql_create_table, sql_drop_table, \\\n        sql_insert_into_table, sql_select_from_table, sql_count_table =  sql_generate()\n\n    # create the table, commit at the same time\n    %db $dsn $sql_create_table --commit    \n    \n    # insert the data from the simple dataset\n    for counter in range(len(data_simple)):\n        insert_statement = sql_insert_into_table % \\\n            (data_simple[counter][0], \\\n             data_simple[counter][1], \\\n             data_simple[counter][2])\n\n        %db $dsn $insert_statement\n\n    # commit after all the inserts, not with each one.\n    %db $dsn --commit    \n\n    # get a random sample of indexes to test\n    for index in random.sample(range(len(data_simple)), sample_size):\n\n        # select that value from the database\n        select_statement = sql_select_from_table % index\n        results = %db $dsn $select_statement --fetch all\n \n        # make sure we match\n        assert index == results[0].i1\n        assert (index * 1.0) == results[0].f1\n        assert \"VALUE = %s\" % index == results[0].v1\n    \n    # clean up after ourselves, commit at the time of the statement\n    %db $dsn $sql_drop_table --commit --debug=$debug_level\n        \ntest_insert_table.setup = std_create_setup_function\ntest_insert_table.teardown = std_create_teardown_function",
     "language": "python",
     "metadata": {},
     "outputs": [],
     "prompt_number": 11
    },
    {
     "cell_type": "markdown",
     "metadata": {},
     "source": "## Special Queries\n\nThese are very similar to the tests for the list function, but they are done as **naked** queries.  That is, we only specify the DSN and the SQL.\n\nSo, the SQL will look like: \n\n`%db $dsn $sql_create_table`\n\nInstead of like:\n\n`%db $dsn --connect --uid=$uid --pwd=$pwd\n%db $dsn $sql_create_table --commit\n%db $dsn --disconnect`\n\nThis is a much more friendly way of writing code, and accomplishes the exact same thing.\n\n### Setup Functions"
    },
    {
     "cell_type": "code",
     "collapsed": false,
     "input": "def std_naked_setup_function():\n    \"\"\" Everything is done manually, nothing is done here \"\"\"\n    pass\n \ndef std_naked_teardown_function():\n    \"\"\" Make sure everything is shut down appropriately. \"\"\"\n    %db --cleanup\n    %unload_ext db\n",
     "language": "python",
     "metadata": {},
     "outputs": [],
     "prompt_number": 12
    },
    {
     "cell_type": "markdown",
     "metadata": {},
     "source": "### Unsourced Queries\n\nThese are very similar to the tests for the naked queries , but they are done as **unsourced** queries.  That is, we only specify the DSN once, and refer to the previous DSN automagically.\n\nSo, the SQL will look like: \n\n`%db $dsn --connect --uid=$uid --pwd=$pwd\n%db $sql_create_table\n%db $insert_records\n%db --commit\n%db --disconnect`\n\nInstead of specifying $dsn on every line, like:\n\n`%db $dsn --connect --uid=$uid --pwd=$pwd\n%db $dsn $sql_create_table --commit\n%db $dsn $sql_insert_records --commit\n%db $dsn --disconnect`\n\nThis is also a more friendly way of writing code, and accomplishes the exact same thing.\n\n### Unsourced Query Tests"
    },
    {
     "cell_type": "code",
     "collapsed": false,
     "input": "def test_unsourced_query():\n    \"\"\" \n    Use unsourced queries to create a table, query a table, and delete a table.\n    \"\"\"\n    import random\n\n    table_name, sql_create_table, sql_drop_table, \\\n        sql_insert_into_table, sql_select_from_table, sql_count_table = sql_generate()\n\n    # run a naked query to create the table\n    %db $dsn $sql_create_table\n    \n    # just connect, don't do anything else\n    %db $dsn --connect --explain\n\n    # insert the data from the simple dataset\n    for counter in range(len(data_simple)):\n\n        # build the sql statement\n        insert_statement = sql_insert_into_table % \\\n            (data_simple[counter][0], \\\n            data_simple[counter][1], \\\n            data_simple[counter][2])\n\n        # use an unsourced query to actually perform the individual insert\n        %db $insert_statement\n\n    # use and unsourced query commit after all the inserts, then disconnect\n    %db --commit\n    \n    # use an unsourced query to get the results\n    results = %db $sql_count_table    \n            \n    # make sure we match the record count, note that we are using the SQL field name (rc)\n    assert results is not None\n    assert len(data_simple) == results[0].rc\n    assert table_records == results[0].rc\n    \n    # use an unsourced query to clean up after ourselves\n    %db $sql_drop_table \n\n    # use unsourced queries to commit and disconnect after the drop\n    %db --commit\n    %db --disconnect    \n        \ntest_unsourced_query.setup = std_naked_setup_function\ntest_unsourced_query.teardown = std_naked_teardown_function",
     "language": "python",
     "metadata": {},
     "outputs": [],
     "prompt_number": 14
    },
    {
     "cell_type": "markdown",
     "metadata": {},
     "source": "### Naked Query Test"
    },
    {
     "cell_type": "code",
     "collapsed": false,
     "input": "# these need to be module level variables so they can be shared across tests and setup/teardown\ntable_records = 5\nsample_size = 5\ndata_simple, data_random = data_generate(table_records)\n\ndef test_naked_query():\n    \"\"\" \n    Use naked queries to create a table, query a table, and delete a table.\n    \"\"\"\n    import random\n\n    table_name, sql_create_table, sql_drop_table, \\\n        sql_insert_into_table, sql_select_from_table, sql_count_table = sql_generate()\n\n    # run a naked query\n    %db $dsn $sql_create_table --explain --debug DEBUG\n    \n    # just connect, don't do anything else\n    %db $dsn --connect\n\n    # insert the data from the simple dataset\n    for counter in range(len(data_simple)):\n\n        # build the sql statement\n        insert_statement = sql_insert_into_table % \\\n            (data_simple[counter][0], \\\n             data_simple[counter][1], \\\n             data_simple[counter][2])\n\n        # actually perform the individual insert\n        %db $dsn $insert_statement\n\n    # commit after all the inserts, then disconnect\n    %db $dsn --commit \n    %db $dsn --disconnect   \n    \n    # run a naked query to get the results\n    results = %db $dsn $sql_count_table --fetch all\n\n    # make sure we match the record count\n    assert len(data_simple) == results[0][0]\n    assert table_records == results[0][0]\n    \n    # clean up after ourselves, commit at the time of the statement\n    %db $dsn $sql_drop_table\n    \ntest_naked_query.setup = std_naked_setup_function\ntest_naked_query.teardown = std_naked_teardown_function",
     "language": "python",
     "metadata": {},
     "outputs": [],
     "prompt_number": 13
    },
    {
     "cell_type": "markdown",
     "metadata": {},
     "source": "### Naked Table Creation Test"
    },
    {
     "cell_type": "code",
     "collapsed": false,
     "input": "def test_naked_table_creation():\n    \"\"\" \n    Use a naked query to create a table.\n    \"\"\"\n    table_name = 'test'\n    \n    tables = %db TDL --list tables --connect --disconnect\n    \n    table_list = []\n    for table_tuple in tables:\n        table_list.append(table_tuple[2].lower())\n        \n    try:\n        if table_name in table_list:\n            %db TDL DROP TABLE $table_name\n        %db TDL CREATE TABLE $table_name ( i1 integer, f1 float, v1 VARCHAR(100))\n        assert True\n    except:\n        assert False\n    finally:\n        %db --cleanup        \n        \ntest_unsourced_query.setup = std_connect_setup_function\ntest_unsourced_query.teardown = std_connect_teardown_function",
     "language": "python",
     "metadata": {},
     "outputs": [],
     "prompt_number": 41
    },
    {
     "cell_type": "markdown",
     "metadata": {},
     "source": "### Queries with multiple options"
    },
    {
     "cell_type": "code",
     "collapsed": false,
     "input": "def test_stacked_query():\n    \"\"\" \n    Use stacked queries to create a table, query a table, and delete a table.\n    \"\"\"\n    import random\n\n    table_name, sql_create_table, sql_drop_table, \\\n        sql_insert_into_table, sql_select_from_table, sql_count_table = sql_generate()\n\n    try:\n        # run a stacked\n        %db $dsn $sql_create_table --explain --connect --commit --disconnect --debug=DEBUG  \n        %db $dsn $sql_drop_table --explain --connect --commit --disconnect \n        assert True\n    except:\n        assert False\n    finally:\n        %db --cleanup\n        \ntest_unsourced_query.setup = std_naked_setup_function\ntest_unsourced_query.teardown = std_naked_teardown_function",
     "language": "python",
     "metadata": {},
     "outputs": [],
     "prompt_number": 15
    },
    {
     "cell_type": "markdown",
     "metadata": {},
     "source": "##Connection Tests\n\nThese are tests to make sure that you are able to reliably connect and disconnect to databases.\n\n### Setup Functions"
    },
    {
     "cell_type": "code",
     "collapsed": false,
     "input": "def std_connect_setup_function():\n    \"\"\" Everything is done manually, nothing is done here \"\"\"\n    pass\n \ndef std_connect_teardown_function():\n    \"\"\" Make sure everything is shut down appropriately. \"\"\"\n    %db --cleanup",
     "language": "python",
     "metadata": {},
     "outputs": [],
     "prompt_number": 16
    },
    {
     "cell_type": "markdown",
     "metadata": {},
     "source": "This test will attempt to make multiple connections to the same datasource and fail."
    },
    {
     "cell_type": "code",
     "collapsed": false,
     "input": "def test_create_multiple_connections():\n    \"\"\" \n    Test to make two connections to the same \n    \"\"\"\n    %db $dsn --connect\n    \n    try:\n        # this should throw an exception because it is a second connection to the same DSN.\n        %db $dsn --connect\n        assert False\n    except:\n        assert True\n    finally:\n        %db --cleanup\n        \ntest_unsourced_query.setup = std_connect_setup_function\ntest_unsourced_query.teardown = std_connect_teardown_function",
     "language": "python",
     "metadata": {},
     "outputs": [],
     "prompt_number": 17
    },
    {
     "cell_type": "markdown",
     "metadata": {},
     "source": "This test will make mulitple connections to the same database with an alias, and should not throw an error."
    },
    {
     "cell_type": "code",
     "collapsed": false,
     "input": "def test_create_multiple_connections_with_alias():\n    \"\"\" \n    Test to make two connections to the same \n    \"\"\"\n    %db $dsn --connect\n    \n    try:\n        # this should not throw an exception because there is an alias.\n        %db $dsn --connect --alias another_name\n        assert True\n    except:\n        assert False\n    finally:\n        %db --cleanup\n    \ntest_unsourced_query.setup = std_connect_setup_function\ntest_unsourced_query.teardown = std_connect_teardown_function",
     "language": "python",
     "metadata": {},
     "outputs": [],
     "prompt_number": 18
    },
    {
     "cell_type": "markdown",
     "metadata": {},
     "source": "This test makes a DSN-less connection."
    },
    {
     "cell_type": "code",
     "collapsed": false,
     "input": "def test_dsnless_connection():\n    \"\"\" \n    Test to make two connections to the same \n    \"\"\"\n\n    uid = 'dbc'\n    pwd = 'dbc'\n    driver = 'TDL'\n    dsnless ='DSN=%s;UID=%s;PWD=%s' % (driver,pwd,uid) \n\n    try:\n        # this should throw an exception because it is a second connection to the same DSN.\n        %db $dsnless --connect\n        assert True\n    except:\n        assert False\n    finally:\n        %db --cleanup\n        \ntest_unsourced_query.setup = std_connect_setup_function\ntest_unsourced_query.teardown = std_connect_teardown_function",
     "language": "python",
     "metadata": {},
     "outputs": [],
     "prompt_number": 19
    },
    {
     "cell_type": "markdown",
     "metadata": {},
     "source": "## Test Execution and Results"
    },
    {
     "cell_type": "code",
     "collapsed": false,
     "input": "%reload_ext ipython_nose\n%reload_ext db\n%nose",
     "language": "python",
     "metadata": {},
     "outputs": [
      {
       "html": "<div id=\"ipython_nose_60c152b2f632489a87a37cc5f0dd8242\"></div>",
       "metadata": {},
       "output_type": "display_data"
      },
      {
       "javascript": "document.ipython_nose_60c152b2f632489a87a37cc5f0dd8242 = $(\"#ipython_nose_60c152b2f632489a87a37cc5f0dd8242\");",
       "metadata": {},
       "output_type": "display_data"
      },
      {
       "javascript": "document.ipython_nose_60c152b2f632489a87a37cc5f0dd8242.append($(\"<span>.</span>\"));",
       "metadata": {},
       "output_type": "display_data"
      },
      {
       "javascript": "document.ipython_nose_60c152b2f632489a87a37cc5f0dd8242.append($(\"<span>.</span>\"));",
       "metadata": {},
       "output_type": "display_data"
      },
      {
       "javascript": "document.ipython_nose_60c152b2f632489a87a37cc5f0dd8242.append($(\"<span>.</span>\"));",
       "metadata": {},
       "output_type": "display_data"
      },
      {
       "javascript": "document.ipython_nose_60c152b2f632489a87a37cc5f0dd8242.append($(\"<span>.</span>\"));",
       "metadata": {},
       "output_type": "display_data"
      },
      {
       "javascript": "document.ipython_nose_60c152b2f632489a87a37cc5f0dd8242.append($(\"<span>.</span>\"));",
       "metadata": {},
       "output_type": "display_data"
      },
      {
       "javascript": "document.ipython_nose_60c152b2f632489a87a37cc5f0dd8242.append($(\"<span>.</span>\"));",
       "metadata": {},
       "output_type": "display_data"
      },
      {
       "javascript": "document.ipython_nose_60c152b2f632489a87a37cc5f0dd8242.append($(\"<span>.</span>\"));",
       "metadata": {},
       "output_type": "display_data"
      },
      {
       "javascript": "document.ipython_nose_60c152b2f632489a87a37cc5f0dd8242.append($(\"<span>.</span>\"));",
       "metadata": {},
       "output_type": "display_data"
      },
      {
       "javascript": "document.ipython_nose_60c152b2f632489a87a37cc5f0dd8242.append($(\"<span>.</span>\"));",
       "metadata": {},
       "output_type": "display_data"
      },
      {
       "javascript": "document.ipython_nose_60c152b2f632489a87a37cc5f0dd8242.append($(\"<span>.</span>\"));",
       "metadata": {},
       "output_type": "display_data"
      },
      {
       "javascript": "document.ipython_nose_60c152b2f632489a87a37cc5f0dd8242.append($(\"<span>.</span>\"));",
       "metadata": {},
       "output_type": "display_data"
      },
      {
       "javascript": "document.ipython_nose_60c152b2f632489a87a37cc5f0dd8242.append($(\"<span>.</span>\"));",
       "metadata": {},
       "output_type": "display_data"
      },
      {
       "javascript": "delete document.ipython_nose_60c152b2f632489a87a37cc5f0dd8242;",
       "metadata": {},
       "output_type": "display_data"
      },
      {
       "html": "    <style type=\"text/css\">\n        span.nosefailedfunc {\n            font-family: monospace;\n            font-weight: bold;\n        }\n        div.noseresults {\n            width: 100%;\n        }\n        div.nosebar {\n            float: left;\n            padding: 1ex 0px 1ex 0px;\n        }\n        div.nosebar.fail {\n            background: #ff3019; /* Old browsers */\n            /* FF3.6+ */\n            background: -moz-linear-gradient(top, #ff3019 0%, #cf0404 100%);\n            /* Chrome,Safari4+ */\n            background: -webkit-gradient(linear, left top, left bottom,\n                                         color-stop(0%,#ff3019),\n                                         color-stop(100%,#cf0404));\n            /* Chrome10+,Safari5.1+ */\n            background: -webkit-linear-gradient(top, #ff3019 0%,#cf0404 100%);\n            /* Opera 11.10+ */\n            background: -o-linear-gradient(top, #ff3019 0%,#cf0404 100%);\n            /* IE10+ */\n            background: -ms-linear-gradient(top, #ff3019 0%,#cf0404 100%);\n            /* W3C */\n            background: linear-gradient(to bottom, #ff3019 0%,#cf0404 100%);\n        }\n        div.nosebar.pass {\n            background: #52b152;\n            background: -moz-linear-gradient(top, #52b152 1%, #008a00 100%);\n            background: -webkit-gradient(linear, left top, left bottom,\n                                         color-stop(1%,#52b152),\n                                         color-stop(100%,#008a00));\n            background: -webkit-linear-gradient(top, #52b152 1%,#008a00 100%);\n            background: -o-linear-gradient(top, #52b152 1%,#008a00 100%);\n            background: -ms-linear-gradient(top, #52b152 1%,#008a00 100%);\n            background: linear-gradient(to bottom, #52b152 1%,#008a00 100%);\n        }\n        div.nosebar.skip {\n            background: #f1e767;\n            background: -moz-linear-gradient(top, #f1e767 0%, #feb645 100%);\n            background: -webkit-gradient(linear, left top, left bottom,\n                                         color-stop(0%,#f1e767),\n                                         color-stop(100%,#feb645));\n            background: -webkit-linear-gradient(top, #f1e767 0%,#feb645 100%);\n            background: -o-linear-gradient(top, #f1e767 0%,#feb645 100%);\n            background: -ms-linear-gradient(top, #f1e767 0%,#feb645 100%);\n            background: linear-gradient(to bottom, #f1e767 0%,#feb645 100%);\n        }\n        div.nosebar.leftmost {\n            border-radius: 4px 0 0 4px;\n        }\n        div.nosebar.rightmost {\n            border-radius: 0 4px 4px 0;\n        }\n        div.nosefailbanner {\n            border-radius: 4px 0 0 4px;\n            border-left: 10px solid #cf0404;\n            padding: 0.5ex 0em 0.5ex 1em;\n            margin-top: 1ex;\n            margin-bottom: 0px;\n        }\n        div.nosefailbanner.expanded {\n            border-radius: 4px 4px 0 0;\n            border-top: 10px solid #cf0404;\n        }\n        pre.nosetraceback {\n            border-radius: 0 4px 4px 4px;\n            border-left: 10px solid #cf0404;\n            padding: 1em;\n            margin-left: 0px;\n            margin-top: 0px;\n            display: none;\n        }\n    </style>\n    \n    <script>\n        setTimeout(function () {\n            $('.nosefailtoggle').bind(\n                'click',\n                function () {\n                    $(\n                        $(this)\n                            .parent().toggleClass('expanded')\n                            .parent()\n                            .children()\n                            .filter('.nosetraceback')\n                    ).toggle();\n                }\n            );},\n            0);\n    </script>\n    \n    <div class=\"noseresults\">\n      <div class=\"nosebar fail leftmost\" style=\"width: 0%\">\n          &nbsp;\n      </div>\n      <div class=\"nosebar skip\" style=\"width: 0%\">\n          &nbsp;\n      </div>\n      <div class=\"nosebar pass rightmost\" style=\"width: 100%\">\n          &nbsp;\n      </div>\n      12/12 tests passed\n    </div>\n    ",
       "metadata": {},
       "output_type": "pyout",
       "prompt_number": 42,
       "text": "12/12 tests passed\n"
      }
     ],
     "prompt_number": 42
    },
    {
     "cell_type": "code",
     "collapsed": false,
     "input": "",
     "language": "python",
     "metadata": {},
     "outputs": []
    }
   ],
   "metadata": {}
  }
 ]
}